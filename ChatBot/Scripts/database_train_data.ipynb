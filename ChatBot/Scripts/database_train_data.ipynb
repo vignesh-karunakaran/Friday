{
 "cells": [
  {
   "cell_type": "code",
   "execution_count": 1,
   "metadata": {},
   "outputs": [],
   "source": [
    "import sqlite3\n",
    "import json\n",
    "import pandas as pd"
   ]
  },
  {
   "cell_type": "code",
   "execution_count": 2,
   "metadata": {},
   "outputs": [],
   "source": [
    "timeframes=['2015-05']"
   ]
  },
  {
   "cell_type": "code",
   "execution_count": 9,
   "metadata": {},
   "outputs": [
    {
     "name": "stdout",
     "output_type": "stream",
     "text": [
      "1260182222\n",
      "1260731459\n",
      "1261217946\n",
      "1261791498\n",
      "1262303955\n"
     ]
    }
   ],
   "source": [
    "for timeframe in timeframes:\n",
    "    connection=sqlite3.connect('{}.db'.format(timeframe))\n",
    "    c=connection.cursor()\n",
    "    limit = 5000\n",
    "    last_unix=0\n",
    "    cur_length=limit\n",
    "    counter=0\n",
    "    test_done=False\n",
    "    \n",
    "    while cur_length == limit:\n",
    "        df=pd.read_sql(\"SELECT * FROM PARENT_REPLY WHERE unix > {} AND parent NOT NULL AND score >0 ORDER BY unix ASC limit {}\".format(last_unix,limit),connection)\n",
    "        last_unix=df.tail(1)['unix'].values[0]\n",
    "        print(last_unix)\n",
    "        cur_length=len(df)\n",
    "        if not test_done:\n",
    "            with open(\"test.from\",'a',encoding='utf8') as f:\n",
    "                for content in df['parent'].values:\n",
    "                    f.write(content+'\\n')\n",
    "            \n",
    "            with open(\"test.to\",'a',encoding='utf8') as f:\n",
    "                for content in df['comment'].values:\n",
    "                    f.write(content+'\\n')\n",
    "                    \n",
    "            test_done=True\n",
    "        else:\n",
    "            with open(\"train.from\",'a',encoding='utf8') as f:\n",
    "                for content in df['parent'].values:\n",
    "                    f.write(content+'\\n')\n",
    "            \n",
    "            with open(\"train.to\",'a',encoding='utf8') as f:\n",
    "                for content in df['comment'].values:\n",
    "                    f.write(content+'\\n')\n",
    "                    \n",
    "        counter+=1\n",
    "        if counter %20 ==0:\n",
    "                print(counter*limit,'rows completed so far')\n",
    "                \n",
    "                \n",
    "    "
   ]
  },
  {
   "cell_type": "code",
   "execution_count": 12,
   "metadata": {},
   "outputs": [],
   "source": [
    "sql=\"SELECT * FROM PARENT_REPLY WHERE unix > {} AND parent NOT NULL AND score >0 ORDER BY unix ASC limit {}\".format(last_unix,limit)"
   ]
  },
  {
   "cell_type": "code",
   "execution_count": 13,
   "metadata": {},
   "outputs": [
    {
     "data": {
      "text/plain": [
       "'SELECT * FROM PARENT_REPLY WHERE unix > 0 AND parent NOT NULL AND score >0 ORDER BY unix ASC limit 5000'"
      ]
     },
     "execution_count": 13,
     "metadata": {},
     "output_type": "execute_result"
    }
   ],
   "source": [
    "sql"
   ]
  },
  {
   "cell_type": "code",
   "execution_count": null,
   "metadata": {},
   "outputs": [],
   "source": []
  }
 ],
 "metadata": {
  "kernelspec": {
   "display_name": "Python 3",
   "language": "python",
   "name": "python3"
  },
  "language_info": {
   "codemirror_mode": {
    "name": "ipython",
    "version": 3
   },
   "file_extension": ".py",
   "mimetype": "text/x-python",
   "name": "python",
   "nbconvert_exporter": "python",
   "pygments_lexer": "ipython3",
   "version": "3.8.0"
  }
 },
 "nbformat": 4,
 "nbformat_minor": 4
}
